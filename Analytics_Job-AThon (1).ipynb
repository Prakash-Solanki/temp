{
 "cells": [
  {
   "cell_type": "code",
   "execution_count": 17,
   "id": "52e83661",
   "metadata": {},
   "outputs": [
    {
     "name": "stdout",
     "output_type": "stream",
     "text": [
      "Modules imported successfully!\n"
     ]
    }
   ],
   "source": [
    "import numpy as np\n",
    "import pandas as pd\n",
    "import warnings\n",
    "import matplotlib.pyplot as plt\n",
    "import seaborn as sns\n",
    "%matplotlib inline\n",
    "warnings.filterwarnings('ignore')\n",
    "\n",
    "print('Modules imported successfully!')"
   ]
  },
  {
   "cell_type": "code",
   "execution_count": 2,
   "id": "b03f39cf",
   "metadata": {},
   "outputs": [
    {
     "data": {
      "text/html": [
       "<div>\n",
       "<style scoped>\n",
       "    .dataframe tbody tr th:only-of-type {\n",
       "        vertical-align: middle;\n",
       "    }\n",
       "\n",
       "    .dataframe tbody tr th {\n",
       "        vertical-align: top;\n",
       "    }\n",
       "\n",
       "    .dataframe thead th {\n",
       "        text-align: right;\n",
       "    }\n",
       "</style>\n",
       "<table border=\"1\" class=\"dataframe\">\n",
       "  <thead>\n",
       "    <tr style=\"text-align: right;\">\n",
       "      <th></th>\n",
       "      <th>Store_id</th>\n",
       "      <th>Store_Type</th>\n",
       "      <th>Location_Type</th>\n",
       "      <th>Region_Code</th>\n",
       "      <th>Date</th>\n",
       "      <th>Holiday</th>\n",
       "      <th>Discount</th>\n",
       "      <th>#Order</th>\n",
       "      <th>Sales</th>\n",
       "    </tr>\n",
       "    <tr>\n",
       "      <th>ID</th>\n",
       "      <th></th>\n",
       "      <th></th>\n",
       "      <th></th>\n",
       "      <th></th>\n",
       "      <th></th>\n",
       "      <th></th>\n",
       "      <th></th>\n",
       "      <th></th>\n",
       "      <th></th>\n",
       "    </tr>\n",
       "  </thead>\n",
       "  <tbody>\n",
       "    <tr>\n",
       "      <th>T1000001</th>\n",
       "      <td>1</td>\n",
       "      <td>S1</td>\n",
       "      <td>L3</td>\n",
       "      <td>R1</td>\n",
       "      <td>2018-01-01</td>\n",
       "      <td>1</td>\n",
       "      <td>Yes</td>\n",
       "      <td>9</td>\n",
       "      <td>7011.84</td>\n",
       "    </tr>\n",
       "    <tr>\n",
       "      <th>T1000002</th>\n",
       "      <td>253</td>\n",
       "      <td>S4</td>\n",
       "      <td>L2</td>\n",
       "      <td>R1</td>\n",
       "      <td>2018-01-01</td>\n",
       "      <td>1</td>\n",
       "      <td>Yes</td>\n",
       "      <td>60</td>\n",
       "      <td>51789.12</td>\n",
       "    </tr>\n",
       "    <tr>\n",
       "      <th>T1000003</th>\n",
       "      <td>252</td>\n",
       "      <td>S3</td>\n",
       "      <td>L2</td>\n",
       "      <td>R1</td>\n",
       "      <td>2018-01-01</td>\n",
       "      <td>1</td>\n",
       "      <td>Yes</td>\n",
       "      <td>42</td>\n",
       "      <td>36868.20</td>\n",
       "    </tr>\n",
       "    <tr>\n",
       "      <th>T1000004</th>\n",
       "      <td>251</td>\n",
       "      <td>S2</td>\n",
       "      <td>L3</td>\n",
       "      <td>R1</td>\n",
       "      <td>2018-01-01</td>\n",
       "      <td>1</td>\n",
       "      <td>Yes</td>\n",
       "      <td>23</td>\n",
       "      <td>19715.16</td>\n",
       "    </tr>\n",
       "    <tr>\n",
       "      <th>T1000005</th>\n",
       "      <td>250</td>\n",
       "      <td>S2</td>\n",
       "      <td>L3</td>\n",
       "      <td>R4</td>\n",
       "      <td>2018-01-01</td>\n",
       "      <td>1</td>\n",
       "      <td>Yes</td>\n",
       "      <td>62</td>\n",
       "      <td>45614.52</td>\n",
       "    </tr>\n",
       "  </tbody>\n",
       "</table>\n",
       "</div>"
      ],
      "text/plain": [
       "          Store_id Store_Type Location_Type Region_Code        Date  Holiday  \\\n",
       "ID                                                                             \n",
       "T1000001         1         S1            L3          R1  2018-01-01        1   \n",
       "T1000002       253         S4            L2          R1  2018-01-01        1   \n",
       "T1000003       252         S3            L2          R1  2018-01-01        1   \n",
       "T1000004       251         S2            L3          R1  2018-01-01        1   \n",
       "T1000005       250         S2            L3          R4  2018-01-01        1   \n",
       "\n",
       "         Discount  #Order     Sales  \n",
       "ID                                   \n",
       "T1000001      Yes       9   7011.84  \n",
       "T1000002      Yes      60  51789.12  \n",
       "T1000003      Yes      42  36868.20  \n",
       "T1000004      Yes      23  19715.16  \n",
       "T1000005      Yes      62  45614.52  "
      ]
     },
     "execution_count": 2,
     "metadata": {},
     "output_type": "execute_result"
    }
   ],
   "source": [
    "#Import Datasets \n",
    "train_df = pd.read_csv(\"TRAIN.csv\")\n",
    "train_df.set_index('ID', inplace=True)\n",
    "\n",
    "train_df.head()"
   ]
  },
  {
   "cell_type": "code",
   "execution_count": 3,
   "id": "5de915cb",
   "metadata": {},
   "outputs": [
    {
     "data": {
      "text/html": [
       "<div>\n",
       "<style scoped>\n",
       "    .dataframe tbody tr th:only-of-type {\n",
       "        vertical-align: middle;\n",
       "    }\n",
       "\n",
       "    .dataframe tbody tr th {\n",
       "        vertical-align: top;\n",
       "    }\n",
       "\n",
       "    .dataframe thead th {\n",
       "        text-align: right;\n",
       "    }\n",
       "</style>\n",
       "<table border=\"1\" class=\"dataframe\">\n",
       "  <thead>\n",
       "    <tr style=\"text-align: right;\">\n",
       "      <th></th>\n",
       "      <th>Store_id</th>\n",
       "      <th>Store_Type</th>\n",
       "      <th>Location_Type</th>\n",
       "      <th>Region_Code</th>\n",
       "      <th>Date</th>\n",
       "      <th>Holiday</th>\n",
       "      <th>Discount</th>\n",
       "    </tr>\n",
       "    <tr>\n",
       "      <th>ID</th>\n",
       "      <th></th>\n",
       "      <th></th>\n",
       "      <th></th>\n",
       "      <th></th>\n",
       "      <th></th>\n",
       "      <th></th>\n",
       "      <th></th>\n",
       "    </tr>\n",
       "  </thead>\n",
       "  <tbody>\n",
       "    <tr>\n",
       "      <th>T1188341</th>\n",
       "      <td>171</td>\n",
       "      <td>S4</td>\n",
       "      <td>L2</td>\n",
       "      <td>R3</td>\n",
       "      <td>2019-06-01</td>\n",
       "      <td>0</td>\n",
       "      <td>No</td>\n",
       "    </tr>\n",
       "    <tr>\n",
       "      <th>T1188342</th>\n",
       "      <td>172</td>\n",
       "      <td>S1</td>\n",
       "      <td>L1</td>\n",
       "      <td>R1</td>\n",
       "      <td>2019-06-01</td>\n",
       "      <td>0</td>\n",
       "      <td>No</td>\n",
       "    </tr>\n",
       "    <tr>\n",
       "      <th>T1188343</th>\n",
       "      <td>173</td>\n",
       "      <td>S4</td>\n",
       "      <td>L2</td>\n",
       "      <td>R1</td>\n",
       "      <td>2019-06-01</td>\n",
       "      <td>0</td>\n",
       "      <td>No</td>\n",
       "    </tr>\n",
       "    <tr>\n",
       "      <th>T1188344</th>\n",
       "      <td>174</td>\n",
       "      <td>S1</td>\n",
       "      <td>L1</td>\n",
       "      <td>R4</td>\n",
       "      <td>2019-06-01</td>\n",
       "      <td>0</td>\n",
       "      <td>No</td>\n",
       "    </tr>\n",
       "    <tr>\n",
       "      <th>T1188345</th>\n",
       "      <td>170</td>\n",
       "      <td>S1</td>\n",
       "      <td>L1</td>\n",
       "      <td>R2</td>\n",
       "      <td>2019-06-01</td>\n",
       "      <td>0</td>\n",
       "      <td>No</td>\n",
       "    </tr>\n",
       "  </tbody>\n",
       "</table>\n",
       "</div>"
      ],
      "text/plain": [
       "          Store_id Store_Type Location_Type Region_Code        Date  Holiday  \\\n",
       "ID                                                                             \n",
       "T1188341       171         S4            L2          R3  2019-06-01        0   \n",
       "T1188342       172         S1            L1          R1  2019-06-01        0   \n",
       "T1188343       173         S4            L2          R1  2019-06-01        0   \n",
       "T1188344       174         S1            L1          R4  2019-06-01        0   \n",
       "T1188345       170         S1            L1          R2  2019-06-01        0   \n",
       "\n",
       "         Discount  \n",
       "ID                 \n",
       "T1188341       No  \n",
       "T1188342       No  \n",
       "T1188343       No  \n",
       "T1188344       No  \n",
       "T1188345       No  "
      ]
     },
     "execution_count": 3,
     "metadata": {},
     "output_type": "execute_result"
    }
   ],
   "source": [
    "test_df = pd.read_csv(\"TEST_FINAL.csv\")\n",
    "test_df.set_index('ID', inplace=True)\n",
    "test_df.head()"
   ]
  },
  {
   "cell_type": "code",
   "execution_count": 4,
   "id": "db39ff8a",
   "metadata": {},
   "outputs": [
    {
     "data": {
      "text/plain": [
       "(188340, 9)"
      ]
     },
     "execution_count": 4,
     "metadata": {},
     "output_type": "execute_result"
    }
   ],
   "source": [
    "train_df.shape"
   ]
  },
  {
   "cell_type": "code",
   "execution_count": 5,
   "id": "a872623b",
   "metadata": {},
   "outputs": [
    {
     "data": {
      "text/plain": [
       "(22265, 7)"
      ]
     },
     "execution_count": 5,
     "metadata": {},
     "output_type": "execute_result"
    }
   ],
   "source": [
    "test_df.shape"
   ]
  },
  {
   "cell_type": "code",
   "execution_count": 6,
   "id": "c507e0f7",
   "metadata": {},
   "outputs": [
    {
     "name": "stdout",
     "output_type": "stream",
     "text": [
      "<class 'pandas.core.frame.DataFrame'>\n",
      "Index: 188340 entries, T1000001 to T1188340\n",
      "Data columns (total 9 columns):\n",
      " #   Column         Non-Null Count   Dtype  \n",
      "---  ------         --------------   -----  \n",
      " 0   Store_id       188340 non-null  int64  \n",
      " 1   Store_Type     188340 non-null  object \n",
      " 2   Location_Type  188340 non-null  object \n",
      " 3   Region_Code    188340 non-null  object \n",
      " 4   Date           188340 non-null  object \n",
      " 5   Holiday        188340 non-null  int64  \n",
      " 6   Discount       188340 non-null  object \n",
      " 7   #Order         188340 non-null  int64  \n",
      " 8   Sales          188340 non-null  float64\n",
      "dtypes: float64(1), int64(3), object(5)\n",
      "memory usage: 14.4+ MB\n"
     ]
    }
   ],
   "source": [
    "train_df.info()"
   ]
  },
  {
   "cell_type": "code",
   "execution_count": 7,
   "id": "a8679b00",
   "metadata": {},
   "outputs": [
    {
     "name": "stdout",
     "output_type": "stream",
     "text": [
      "<class 'pandas.core.frame.DataFrame'>\n",
      "Index: 22265 entries, T1188341 to T1210605\n",
      "Data columns (total 7 columns):\n",
      " #   Column         Non-Null Count  Dtype \n",
      "---  ------         --------------  ----- \n",
      " 0   Store_id       22265 non-null  int64 \n",
      " 1   Store_Type     22265 non-null  object\n",
      " 2   Location_Type  22265 non-null  object\n",
      " 3   Region_Code    22265 non-null  object\n",
      " 4   Date           22265 non-null  object\n",
      " 5   Holiday        22265 non-null  int64 \n",
      " 6   Discount       22265 non-null  object\n",
      "dtypes: int64(2), object(5)\n",
      "memory usage: 1.4+ MB\n"
     ]
    }
   ],
   "source": [
    "test_df.info()"
   ]
  },
  {
   "cell_type": "code",
   "execution_count": null,
   "id": "07ccb083",
   "metadata": {},
   "outputs": [],
   "source": []
  },
  {
   "cell_type": "code",
   "execution_count": 10,
   "id": "0e3460ff",
   "metadata": {},
   "outputs": [
    {
     "data": {
      "text/plain": [
       "Store_id         0\n",
       "Store_Type       0\n",
       "Location_Type    0\n",
       "Region_Code      0\n",
       "Date             0\n",
       "Holiday          0\n",
       "Discount         0\n",
       "#Order           0\n",
       "Sales            0\n",
       "dtype: int64"
      ]
     },
     "execution_count": 10,
     "metadata": {},
     "output_type": "execute_result"
    }
   ],
   "source": [
    "train_df.isnull().sum()"
   ]
  },
  {
   "cell_type": "code",
   "execution_count": 11,
   "id": "d5d12bfd",
   "metadata": {},
   "outputs": [
    {
     "data": {
      "text/plain": [
       "Store_id         0\n",
       "Store_Type       0\n",
       "Location_Type    0\n",
       "Region_Code      0\n",
       "Date             0\n",
       "Holiday          0\n",
       "Discount         0\n",
       "dtype: int64"
      ]
     },
     "execution_count": 11,
     "metadata": {},
     "output_type": "execute_result"
    }
   ],
   "source": [
    "test_df.isnull().sum()"
   ]
  },
  {
   "cell_type": "code",
   "execution_count": 12,
   "id": "27b3d36c",
   "metadata": {},
   "outputs": [
    {
     "data": {
      "text/plain": [
       "<AxesSubplot:xlabel='Location_Type'>"
      ]
     },
     "execution_count": 12,
     "metadata": {},
     "output_type": "execute_result"
    },
    {
     "data": {
      "image/png": "[encoded data removed]",
      "text/plain": [
       "<Figure size 432x288 with 1 Axes>"
      ]
     },
     "metadata": {
      "needs_background": "light"
     },
     "output_type": "display_data"
    }
   ],
   "source": [
    "train_df.groupby(['Location_Type'])['Sales'].sum().plot(kind = 'bar')"
   ]
  },
  {
   "cell_type": "code",
   "execution_count": 18,
   "id": "0b7a158d",
   "metadata": {},
   "outputs": [
    {
     "data": {
      "text/plain": [
       "<AxesSubplot:xlabel='Store_Type', ylabel='count'>"
      ]
     },
     "execution_count": 18,
     "metadata": {},
     "output_type": "execute_result"
    },
    {
     "data": {
      "image/png": "[encoded data removed]",
      "text/plain": [
       "<Figure size 1080x360 with 1 Axes>"
      ]
     },
     "metadata": {
      "needs_background": "light"
     },
     "output_type": "display_data"
    }
   ],
   "source": [
    "plt.figure(figsize=(15,5))\n",
    "sns.countplot('Store_Type', data = train_df)"
   ]
  },
  {
   "cell_type": "code",
   "execution_count": 19,
   "id": "d5841cb0",
   "metadata": {},
   "outputs": [
    {
     "data": {
      "text/plain": [
       "<AxesSubplot:xlabel='Location_Type', ylabel='count'>"
      ]
     },
     "execution_count": 19,
     "metadata": {},
     "output_type": "execute_result"
    },
    {
     "data": {
      "image/png": "[encoded data removed]",
      "text/plain": [
       "<Figure size 1080x360 with 1 Axes>"
      ]
     },
     "metadata": {
      "needs_background": "light"
     },
     "output_type": "display_data"
    }
   ],
   "source": [
    "plt.figure(figsize=(15,5))\n",
    "sns.countplot('Location_Type', data = train_df)"
   ]
  },
  {
   "cell_type": "code",
   "execution_count": 20,
   "id": "c3cd45cc",
   "metadata": {},
   "outputs": [
    {
     "data": {
      "text/plain": [
       "array(['2018-01-01', '2018-01-02', '2018-01-03', '2018-01-04',\n",
       "       '2018-01-05', '2018-01-06', '2018-01-07', '2018-01-08',\n",
       "       '2018-01-09', '2018-01-10', '2018-01-11', '2018-01-12',\n",
       "       '2018-01-13', '2018-01-14', '2018-01-15', '2018-01-16',\n",
       "       '2018-01-17', '2018-01-18', '2018-01-19', '2018-01-20',\n",
       "       '2018-01-21', '2018-01-22', '2018-01-23', '2018-01-24',\n",
       "       '2018-01-25', '2018-01-26', '2018-01-27', '2018-01-28',\n",
       "       '2018-01-29', '2018-01-30', '2018-01-31', '2018-02-01',\n",
       "       '2018-02-02', '2018-02-03', '2018-02-04', '2018-02-05',\n",
       "       '2018-02-06', '2018-02-07', '2018-02-08', '2018-02-09',\n",
       "       '2018-02-10', '2018-02-11', '2018-02-12', '2018-02-13',\n",
       "       '2018-02-14', '2018-02-15', '2018-02-16', '2018-02-17',\n",
       "       '2018-02-18', '2018-02-19', '2018-02-20', '2018-02-21',\n",
       "       '2018-02-22', '2018-02-23', '2018-02-24', '2018-02-25',\n",
       "       '2018-02-26', '2018-02-27', '2018-02-28', '2018-03-01',\n",
       "       '2018-03-02', '2018-03-03', '2018-03-04', '2018-03-05',\n",
       "       '2018-03-06', '2018-03-07', '2018-03-08', '2018-03-09',\n",
       "       '2018-03-10', '2018-03-11', '2018-03-12', '2018-03-13',\n",
       "       '2018-03-14', '2018-03-15', '2018-03-16', '2018-03-17',\n",
       "       '2018-03-18', '2018-03-19', '2018-03-20', '2018-03-21',\n",
       "       '2018-03-22', '2018-03-23', '2018-03-24', '2018-03-25',\n",
       "       '2018-03-26', '2018-03-27', '2018-03-28', '2018-03-29',\n",
       "       '2018-03-30', '2018-03-31', '2018-04-01', '2018-04-02',\n",
       "       '2018-04-03', '2018-04-04', '2018-04-05', '2018-04-06',\n",
       "       '2018-04-07', '2018-04-08', '2018-04-09', '2018-04-10',\n",
       "       '2018-04-11', '2018-04-12', '2018-04-13', '2018-04-14',\n",
       "       '2018-04-15', '2018-04-16', '2018-04-17', '2018-04-18',\n",
       "       '2018-04-19', '2018-04-20', '2018-04-21', '2018-04-22',\n",
       "       '2018-04-23', '2018-04-24', '2018-04-25', '2018-04-26',\n",
       "       '2018-04-27', '2018-04-28', '2018-04-29', '2018-04-30',\n",
       "       '2018-05-01', '2018-05-02', '2018-05-03', '2018-05-04',\n",
       "       '2018-05-05', '2018-05-06', '2018-05-07', '2018-05-08',\n",
       "       '2018-05-09', '2018-05-10', '2018-05-11', '2018-05-12',\n",
       "       '2018-05-13', '2018-05-14', '2018-05-15', '2018-05-16',\n",
       "       '2018-05-17', '2018-05-18', '2018-05-19', '2018-05-20',\n",
       "       '2018-05-21', '2018-05-22', '2018-05-23', '2018-05-24',\n",
       "       '2018-05-25', '2018-05-26', '2018-05-27', '2018-05-28',\n",
       "       '2018-05-29', '2018-05-30', '2018-05-31', '2018-06-01',\n",
       "       '2018-06-02', '2018-06-03', '2018-06-04', '2018-06-05',\n",
       "       '2018-06-06', '2018-06-07', '2018-06-08', '2018-06-09',\n",
       "       '2018-06-10', '2018-06-11', '2018-06-12', '2018-06-13',\n",
       "       '2018-06-14', '2018-06-15', '2018-06-16', '2018-06-17',\n",
       "       '2018-06-18', '2018-06-19', '2018-06-20', '2018-06-21',\n",
       "       '2018-06-22', '2018-06-23', '2018-06-24', '2018-06-25',\n",
       "       '2018-06-26', '2018-06-27', '2018-06-28', '2018-06-29',\n",
       "       '2018-06-30', '2018-07-01', '2018-07-02', '2018-07-03',\n",
       "       '2018-07-04', '2018-07-05', '2018-07-06', '2018-07-07',\n",
       "       '2018-07-08', '2018-07-09', '2018-07-10', '2018-07-11',\n",
       "       '2018-07-12', '2018-07-13', '2018-07-14', '2018-07-15',\n",
       "       '2018-07-16', '2018-07-17', '2018-07-18', '2018-07-19',\n",
       "       '2018-07-20', '2018-07-21', '2018-07-22', '2018-07-23',\n",
       "       '2018-07-24', '2018-07-25', '2018-07-26', '2018-07-27',\n",
       "       '2018-07-28', '2018-07-29', '2018-07-30', '2018-07-31',\n",
       "       '2018-08-01', '2018-08-02', '2018-08-03', '2018-08-04',\n",
       "       '2018-08-05', '2018-08-06', '2018-08-07', '2018-08-08',\n",
       "       '2018-08-09', '2018-08-10', '2018-08-11', '2018-08-12',\n",
       "       '2018-08-13', '2018-08-14', '2018-08-15', '2018-08-16',\n",
       "       '2018-08-17', '2018-08-18', '2018-08-19', '2018-08-20',\n",
       "       '2018-08-21', '2018-08-22', '2018-08-23', '2018-08-24',\n",
       "       '2018-08-25', '2018-08-26', '2018-08-27', '2018-08-28',\n",
       "       '2018-08-29', '2018-08-30', '2018-08-31', '2018-09-01',\n",
       "       '2018-09-02', '2018-09-03', '2018-09-04', '2018-09-05',\n",
       "       '2018-09-06', '2018-09-07', '2018-09-08', '2018-09-09',\n",
       "       '2018-09-10', '2018-09-11', '2018-09-12', '2018-09-13',\n",
       "       '2018-09-14', '2018-09-15', '2018-09-16', '2018-09-17',\n",
       "       '2018-09-18', '2018-09-19', '2018-09-20', '2018-09-21',\n",
       "       '2018-09-22', '2018-09-23', '2018-09-24', '2018-09-25',\n",
       "       '2018-09-26', '2018-09-27', '2018-09-28', '2018-09-29',\n",
       "       '2018-09-30', '2018-10-01', '2018-10-02', '2018-10-03',\n",
       "       '2018-10-04', '2018-10-05', '2018-10-06', '2018-10-07',\n",
       "       '2018-10-08', '2018-10-09', '2018-10-10', '2018-10-11',\n",
       "       '2018-10-12', '2018-10-13', '2018-10-14', '2018-10-15',\n",
       "       '2018-10-16', '2018-10-17', '2018-10-18', '2018-10-19',\n",
       "       '2018-10-20', '2018-10-21', '2018-10-22', '2018-10-23',\n",
       "       '2018-10-24', '2018-10-25', '2018-10-26', '2018-10-27',\n",
       "       '2018-10-28', '2018-10-29', '2018-10-30', '2018-10-31',\n",
       "       '2018-11-01', '2018-11-02', '2018-11-03', '2018-11-04',\n",
       "       '2018-11-05', '2018-11-06', '2018-11-07', '2018-11-08',\n",
       "       '2018-11-09', '2018-11-10', '2018-11-11', '2018-11-12',\n",
       "       '2018-11-13', '2018-11-14', '2018-11-15', '2018-11-16',\n",
       "       '2018-11-17', '2018-11-18', '2018-11-19', '2018-11-20',\n",
       "       '2018-11-21', '2018-11-22', '2018-11-23', '2018-11-24',\n",
       "       '2018-11-25', '2018-11-26', '2018-11-27', '2018-11-28',\n",
       "       '2018-11-29', '2018-11-30', '2018-12-01', '2018-12-02',\n",
       "       '2018-12-03', '2018-12-04', '2018-12-05', '2018-12-06',\n",
       "       '2018-12-07', '2018-12-08', '2018-12-09', '2018-12-10',\n",
       "       '2018-12-11', '2018-12-12', '2018-12-13', '2018-12-14',\n",
       "       '2018-12-15', '2018-12-16', '2018-12-17', '2018-12-18',\n",
       "       '2018-12-19', '2018-12-20', '2018-12-21', '2018-12-22',\n",
       "       '2018-12-23', '2018-12-24', '2018-12-25', '2018-12-26',\n",
       "       '2018-12-27', '2018-12-28', '2018-12-29', '2018-12-30',\n",
       "       '2018-12-31', '2019-01-01', '2019-01-02', '2019-01-03',\n",
       "       '2019-01-04', '2019-01-05', '2019-01-06', '2019-01-07',\n",
       "       '2019-01-08', '2019-01-09', '2019-01-10', '2019-01-11',\n",
       "       '2019-01-12', '2019-01-13', '2019-01-14', '2019-01-15',\n",
       "       '2019-01-16', '2019-01-17', '2019-01-18', '2019-01-19',\n",
       "       '2019-01-20', '2019-01-21', '2019-01-22', '2019-01-23',\n",
       "       '2019-01-24', '2019-01-25', '2019-01-26', '2019-01-27',\n",
       "       '2019-01-28', '2019-01-29', '2019-01-30', '2019-01-31',\n",
       "       '2019-02-01', '2019-02-02', '2019-02-03', '2019-02-04',\n",
       "       '2019-02-05', '2019-02-06', '2019-02-07', '2019-02-08',\n",
       "       '2019-02-09', '2019-02-10', '2019-02-11', '2019-02-12',\n",
       "       '2019-02-13', '2019-02-14', '2019-02-15', '2019-02-16',\n",
       "       '2019-02-17', '2019-02-18', '2019-02-19', '2019-02-20',\n",
       "       '2019-02-21', '2019-02-22', '2019-02-23', '2019-02-24',\n",
       "       '2019-02-25', '2019-02-26', '2019-02-27', '2019-02-28',\n",
       "       '2019-03-01', '2019-03-02', '2019-03-03', '2019-03-04',\n",
       "       '2019-03-05', '2019-03-06', '2019-03-07', '2019-03-08',\n",
       "       '2019-03-09', '2019-03-10', '2019-03-11', '2019-03-12',\n",
       "       '2019-03-13', '2019-03-14', '2019-03-15', '2019-03-16',\n",
       "       '2019-03-17', '2019-03-18', '2019-03-19', '2019-03-20',\n",
       "       '2019-03-21', '2019-03-22', '2019-03-23', '2019-03-24',\n",
       "       '2019-03-25', '2019-03-26', '2019-03-27', '2019-03-28',\n",
       "       '2019-03-29', '2019-03-30', '2019-03-31', '2019-04-01',\n",
       "       '2019-04-02', '2019-04-03', '2019-04-04', '2019-04-05',\n",
       "       '2019-04-06', '2019-04-07', '2019-04-08', '2019-04-09',\n",
       "       '2019-04-10', '2019-04-11', '2019-04-12', '2019-04-13',\n",
       "       '2019-04-14', '2019-04-15', '2019-04-16', '2019-04-17',\n",
       "       '2019-04-18', '2019-04-19', '2019-04-20', '2019-04-21',\n",
       "       '2019-04-22', '2019-04-23', '2019-04-24', '2019-04-25',\n",
       "       '2019-04-26', '2019-04-27', '2019-04-28', '2019-04-29',\n",
       "       '2019-04-30', '2019-05-01', '2019-05-02', '2019-05-03',\n",
       "       '2019-05-04', '2019-05-05', '2019-05-06', '2019-05-07',\n",
       "       '2019-05-08', '2019-05-09', '2019-05-10', '2019-05-11',\n",
       "       '2019-05-12', '2019-05-13', '2019-05-14', '2019-05-15',\n",
       "       '2019-05-16', '2019-05-17', '2019-05-18', '2019-05-19',\n",
       "       '2019-05-20', '2019-05-21', '2019-05-22', '2019-05-23',\n",
       "       '2019-05-24', '2019-05-25', '2019-05-26', '2019-05-27',\n",
       "       '2019-05-28', '2019-05-29', '2019-05-30', '2019-05-31'],\n",
       "      dtype=object)"
      ]
     },
     "execution_count": 20,
     "metadata": {},
     "output_type": "execute_result"
    }
   ],
   "source": [
    "train_df['Date'].unique()"
   ]
  },
  {
   "cell_type": "code",
   "execution_count": 22,
   "id": "15346166",
   "metadata": {},
   "outputs": [
    {
     "data": {
      "text/plain": [
       "<AxesSubplot:xlabel='ID'>"
      ]
     },
     "execution_count": 22,
     "metadata": {},
     "output_type": "execute_result"
    },
    {
     "data": {
      "image/png": "[encoded data removed]",
      "text/plain": [
       "<Figure size 432x288 with 1 Axes>"
      ]
     },
     "metadata": {
      "needs_background": "light"
     },
     "output_type": "display_data"
    }
   ],
   "source": [
    "train_df[\"Sales\"].plot()"
   ]
  },
  {
   "cell_type": "code",
   "execution_count": 23,
   "id": "3f5bdfb9",
   "metadata": {},
   "outputs": [],
   "source": [
    "train_df['Date'] = pd.to_datetime(train_df['Date'])\n"
   ]
  },
  {
   "cell_type": "code",
   "execution_count": 30,
   "id": "48dfc5f4",
   "metadata": {},
   "outputs": [],
   "source": [
    "test_df['Date'] = pd.to_datetime(test_df['Date'])"
   ]
  },
  {
   "cell_type": "code",
   "execution_count": 24,
   "id": "99b26c27",
   "metadata": {},
   "outputs": [
    {
     "data": {
      "text/plain": [
       "ID\n",
       "T1000001   2018-01-01\n",
       "T1000002   2018-01-01\n",
       "T1000003   2018-01-01\n",
       "T1000004   2018-01-01\n",
       "T1000005   2018-01-01\n",
       "Name: Date, dtype: datetime64[ns]"
      ]
     },
     "execution_count": 24,
     "metadata": {},
     "output_type": "execute_result"
    }
   ],
   "source": [
    "train_df['Date'].head()"
   ]
  },
  {
   "cell_type": "code",
   "execution_count": 31,
   "id": "e8e5ba46",
   "metadata": {},
   "outputs": [
    {
     "data": {
      "text/html": [
       "<div>\n",
       "<style scoped>\n",
       "    .dataframe tbody tr th:only-of-type {\n",
       "        vertical-align: middle;\n",
       "    }\n",
       "\n",
       "    .dataframe tbody tr th {\n",
       "        vertical-align: top;\n",
       "    }\n",
       "\n",
       "    .dataframe thead th {\n",
       "        text-align: right;\n",
       "    }\n",
       "</style>\n",
       "<table border=\"1\" class=\"dataframe\">\n",
       "  <thead>\n",
       "    <tr style=\"text-align: right;\">\n",
       "      <th></th>\n",
       "      <th>Store_id</th>\n",
       "      <th>Store_Type</th>\n",
       "      <th>Location_Type</th>\n",
       "      <th>Region_Code</th>\n",
       "      <th>Date</th>\n",
       "      <th>Holiday</th>\n",
       "      <th>Discount</th>\n",
       "      <th>Year</th>\n",
       "      <th>Month</th>\n",
       "      <th>Day</th>\n",
       "    </tr>\n",
       "    <tr>\n",
       "      <th>ID</th>\n",
       "      <th></th>\n",
       "      <th></th>\n",
       "      <th></th>\n",
       "      <th></th>\n",
       "      <th></th>\n",
       "      <th></th>\n",
       "      <th></th>\n",
       "      <th></th>\n",
       "      <th></th>\n",
       "      <th></th>\n",
       "    </tr>\n",
       "  </thead>\n",
       "  <tbody>\n",
       "    <tr>\n",
       "      <th>T1188341</th>\n",
       "      <td>171</td>\n",
       "      <td>S4</td>\n",
       "      <td>L2</td>\n",
       "      <td>R3</td>\n",
       "      <td>2019-06-01</td>\n",
       "      <td>0</td>\n",
       "      <td>No</td>\n",
       "      <td>2019</td>\n",
       "      <td>6</td>\n",
       "      <td>1</td>\n",
       "    </tr>\n",
       "    <tr>\n",
       "      <th>T1188342</th>\n",
       "      <td>172</td>\n",
       "      <td>S1</td>\n",
       "      <td>L1</td>\n",
       "      <td>R1</td>\n",
       "      <td>2019-06-01</td>\n",
       "      <td>0</td>\n",
       "      <td>No</td>\n",
       "      <td>2019</td>\n",
       "      <td>6</td>\n",
       "      <td>1</td>\n",
       "    </tr>\n",
       "    <tr>\n",
       "      <th>T1188343</th>\n",
       "      <td>173</td>\n",
       "      <td>S4</td>\n",
       "      <td>L2</td>\n",
       "      <td>R1</td>\n",
       "      <td>2019-06-01</td>\n",
       "      <td>0</td>\n",
       "      <td>No</td>\n",
       "      <td>2019</td>\n",
       "      <td>6</td>\n",
       "      <td>1</td>\n",
       "    </tr>\n",
       "    <tr>\n",
       "      <th>T1188344</th>\n",
       "      <td>174</td>\n",
       "      <td>S1</td>\n",
       "      <td>L1</td>\n",
       "      <td>R4</td>\n",
       "      <td>2019-06-01</td>\n",
       "      <td>0</td>\n",
       "      <td>No</td>\n",
       "      <td>2019</td>\n",
       "      <td>6</td>\n",
       "      <td>1</td>\n",
       "    </tr>\n",
       "    <tr>\n",
       "      <th>T1188345</th>\n",
       "      <td>170</td>\n",
       "      <td>S1</td>\n",
       "      <td>L1</td>\n",
       "      <td>R2</td>\n",
       "      <td>2019-06-01</td>\n",
       "      <td>0</td>\n",
       "      <td>No</td>\n",
       "      <td>2019</td>\n",
       "      <td>6</td>\n",
       "      <td>1</td>\n",
       "    </tr>\n",
       "  </tbody>\n",
       "</table>\n",
       "</div>"
      ],
      "text/plain": [
       "          Store_id Store_Type Location_Type Region_Code       Date  Holiday  \\\n",
       "ID                                                                            \n",
       "T1188341       171         S4            L2          R3 2019-06-01        0   \n",
       "T1188342       172         S1            L1          R1 2019-06-01        0   \n",
       "T1188343       173         S4            L2          R1 2019-06-01        0   \n",
       "T1188344       174         S1            L1          R4 2019-06-01        0   \n",
       "T1188345       170         S1            L1          R2 2019-06-01        0   \n",
       "\n",
       "         Discount  Year  Month  Day  \n",
       "ID                                   \n",
       "T1188341       No  2019      6    1  \n",
       "T1188342       No  2019      6    1  \n",
       "T1188343       No  2019      6    1  \n",
       "T1188344       No  2019      6    1  \n",
       "T1188345       No  2019      6    1  "
      ]
     },
     "execution_count": 31,
     "metadata": {},
     "output_type": "execute_result"
    }
   ],
   "source": [
    "test_df.head()"
   ]
  },
  {
   "cell_type": "code",
   "execution_count": 25,
   "id": "df7732f6",
   "metadata": {},
   "outputs": [],
   "source": [
    "def split_date(df):\n",
    "    df['Date'] = pd.to_datetime(df['Date'])\n",
    "    df['Year'] = df.Date.dt.year\n",
    "    df['Month'] = df.Date.dt.month\n",
    "    df['Day'] = df.Date.dt.day"
   ]
  },
  {
   "cell_type": "code",
   "execution_count": 26,
   "id": "519754d5",
   "metadata": {},
   "outputs": [],
   "source": [
    "split_date(train_df)\n",
    "split_date(test_df)"
   ]
  },
  {
   "cell_type": "code",
   "execution_count": 27,
   "id": "6963ec54",
   "metadata": {},
   "outputs": [
    {
     "data": {
      "text/html": [
       "<div>\n",
       "<style scoped>\n",
       "    .dataframe tbody tr th:only-of-type {\n",
       "        vertical-align: middle;\n",
       "    }\n",
       "\n",
       "    .dataframe tbody tr th {\n",
       "        vertical-align: top;\n",
       "    }\n",
       "\n",
       "    .dataframe thead th {\n",
       "        text-align: right;\n",
       "    }\n",
       "</style>\n",
       "<table border=\"1\" class=\"dataframe\">\n",
       "  <thead>\n",
       "    <tr style=\"text-align: right;\">\n",
       "      <th></th>\n",
       "      <th>Store_id</th>\n",
       "      <th>Store_Type</th>\n",
       "      <th>Location_Type</th>\n",
       "      <th>Region_Code</th>\n",
       "      <th>Date</th>\n",
       "      <th>Holiday</th>\n",
       "      <th>Discount</th>\n",
       "      <th>#Order</th>\n",
       "      <th>Sales</th>\n",
       "      <th>Year</th>\n",
       "      <th>Month</th>\n",
       "      <th>Day</th>\n",
       "    </tr>\n",
       "    <tr>\n",
       "      <th>ID</th>\n",
       "      <th></th>\n",
       "      <th></th>\n",
       "      <th></th>\n",
       "      <th></th>\n",
       "      <th></th>\n",
       "      <th></th>\n",
       "      <th></th>\n",
       "      <th></th>\n",
       "      <th></th>\n",
       "      <th></th>\n",
       "      <th></th>\n",
       "      <th></th>\n",
       "    </tr>\n",
       "  </thead>\n",
       "  <tbody>\n",
       "    <tr>\n",
       "      <th>T1000001</th>\n",
       "      <td>1</td>\n",
       "      <td>S1</td>\n",
       "      <td>L3</td>\n",
       "      <td>R1</td>\n",
       "      <td>2018-01-01</td>\n",
       "      <td>1</td>\n",
       "      <td>Yes</td>\n",
       "      <td>9</td>\n",
       "      <td>7011.84</td>\n",
       "      <td>2018</td>\n",
       "      <td>1</td>\n",
       "      <td>1</td>\n",
       "    </tr>\n",
       "    <tr>\n",
       "      <th>T1000002</th>\n",
       "      <td>253</td>\n",
       "      <td>S4</td>\n",
       "      <td>L2</td>\n",
       "      <td>R1</td>\n",
       "      <td>2018-01-01</td>\n",
       "      <td>1</td>\n",
       "      <td>Yes</td>\n",
       "      <td>60</td>\n",
       "      <td>51789.12</td>\n",
       "      <td>2018</td>\n",
       "      <td>1</td>\n",
       "      <td>1</td>\n",
       "    </tr>\n",
       "    <tr>\n",
       "      <th>T1000003</th>\n",
       "      <td>252</td>\n",
       "      <td>S3</td>\n",
       "      <td>L2</td>\n",
       "      <td>R1</td>\n",
       "      <td>2018-01-01</td>\n",
       "      <td>1</td>\n",
       "      <td>Yes</td>\n",
       "      <td>42</td>\n",
       "      <td>36868.20</td>\n",
       "      <td>2018</td>\n",
       "      <td>1</td>\n",
       "      <td>1</td>\n",
       "    </tr>\n",
       "    <tr>\n",
       "      <th>T1000004</th>\n",
       "      <td>251</td>\n",
       "      <td>S2</td>\n",
       "      <td>L3</td>\n",
       "      <td>R1</td>\n",
       "      <td>2018-01-01</td>\n",
       "      <td>1</td>\n",
       "      <td>Yes</td>\n",
       "      <td>23</td>\n",
       "      <td>19715.16</td>\n",
       "      <td>2018</td>\n",
       "      <td>1</td>\n",
       "      <td>1</td>\n",
       "    </tr>\n",
       "    <tr>\n",
       "      <th>T1000005</th>\n",
       "      <td>250</td>\n",
       "      <td>S2</td>\n",
       "      <td>L3</td>\n",
       "      <td>R4</td>\n",
       "      <td>2018-01-01</td>\n",
       "      <td>1</td>\n",
       "      <td>Yes</td>\n",
       "      <td>62</td>\n",
       "      <td>45614.52</td>\n",
       "      <td>2018</td>\n",
       "      <td>1</td>\n",
       "      <td>1</td>\n",
       "    </tr>\n",
       "  </tbody>\n",
       "</table>\n",
       "</div>"
      ],
      "text/plain": [
       "          Store_id Store_Type Location_Type Region_Code       Date  Holiday  \\\n",
       "ID                                                                            \n",
       "T1000001         1         S1            L3          R1 2018-01-01        1   \n",
       "T1000002       253         S4            L2          R1 2018-01-01        1   \n",
       "T1000003       252         S3            L2          R1 2018-01-01        1   \n",
       "T1000004       251         S2            L3          R1 2018-01-01        1   \n",
       "T1000005       250         S2            L3          R4 2018-01-01        1   \n",
       "\n",
       "         Discount  #Order     Sales  Year  Month  Day  \n",
       "ID                                                     \n",
       "T1000001      Yes       9   7011.84  2018      1    1  \n",
       "T1000002      Yes      60  51789.12  2018      1    1  \n",
       "T1000003      Yes      42  36868.20  2018      1    1  \n",
       "T1000004      Yes      23  19715.16  2018      1    1  \n",
       "T1000005      Yes      62  45614.52  2018      1    1  "
      ]
     },
     "execution_count": 27,
     "metadata": {},
     "output_type": "execute_result"
    }
   ],
   "source": [
    "train_df.head()"
   ]
  },
  {
   "cell_type": "code",
   "execution_count": 29,
   "id": "95fb45a2",
   "metadata": {},
   "outputs": [
    {
     "data": {
      "text/html": [
       "<div>\n",
       "<style scoped>\n",
       "    .dataframe tbody tr th:only-of-type {\n",
       "        vertical-align: middle;\n",
       "    }\n",
       "\n",
       "    .dataframe tbody tr th {\n",
       "        vertical-align: top;\n",
       "    }\n",
       "\n",
       "    .dataframe thead th {\n",
       "        text-align: right;\n",
       "    }\n",
       "</style>\n",
       "<table border=\"1\" class=\"dataframe\">\n",
       "  <thead>\n",
       "    <tr style=\"text-align: right;\">\n",
       "      <th></th>\n",
       "      <th>Store_id</th>\n",
       "      <th>Store_Type</th>\n",
       "      <th>Location_Type</th>\n",
       "      <th>Region_Code</th>\n",
       "      <th>Date</th>\n",
       "      <th>Holiday</th>\n",
       "      <th>Discount</th>\n",
       "      <th>Year</th>\n",
       "      <th>Month</th>\n",
       "      <th>Day</th>\n",
       "    </tr>\n",
       "    <tr>\n",
       "      <th>ID</th>\n",
       "      <th></th>\n",
       "      <th></th>\n",
       "      <th></th>\n",
       "      <th></th>\n",
       "      <th></th>\n",
       "      <th></th>\n",
       "      <th></th>\n",
       "      <th></th>\n",
       "      <th></th>\n",
       "      <th></th>\n",
       "    </tr>\n",
       "  </thead>\n",
       "  <tbody>\n",
       "    <tr>\n",
       "      <th>T1210601</th>\n",
       "      <td>186</td>\n",
       "      <td>S2</td>\n",
       "      <td>L5</td>\n",
       "      <td>R2</td>\n",
       "      <td>2019-07-31</td>\n",
       "      <td>0</td>\n",
       "      <td>No</td>\n",
       "      <td>2019</td>\n",
       "      <td>7</td>\n",
       "      <td>31</td>\n",
       "    </tr>\n",
       "    <tr>\n",
       "      <th>T1210602</th>\n",
       "      <td>11</td>\n",
       "      <td>S4</td>\n",
       "      <td>L2</td>\n",
       "      <td>R1</td>\n",
       "      <td>2019-07-31</td>\n",
       "      <td>0</td>\n",
       "      <td>No</td>\n",
       "      <td>2019</td>\n",
       "      <td>7</td>\n",
       "      <td>31</td>\n",
       "    </tr>\n",
       "    <tr>\n",
       "      <th>T1210603</th>\n",
       "      <td>185</td>\n",
       "      <td>S1</td>\n",
       "      <td>L1</td>\n",
       "      <td>R3</td>\n",
       "      <td>2019-07-31</td>\n",
       "      <td>0</td>\n",
       "      <td>Yes</td>\n",
       "      <td>2019</td>\n",
       "      <td>7</td>\n",
       "      <td>31</td>\n",
       "    </tr>\n",
       "    <tr>\n",
       "      <th>T1210604</th>\n",
       "      <td>69</td>\n",
       "      <td>S1</td>\n",
       "      <td>L1</td>\n",
       "      <td>R4</td>\n",
       "      <td>2019-07-31</td>\n",
       "      <td>0</td>\n",
       "      <td>No</td>\n",
       "      <td>2019</td>\n",
       "      <td>7</td>\n",
       "      <td>31</td>\n",
       "    </tr>\n",
       "    <tr>\n",
       "      <th>T1210605</th>\n",
       "      <td>365</td>\n",
       "      <td>S2</td>\n",
       "      <td>L1</td>\n",
       "      <td>R2</td>\n",
       "      <td>2019-07-31</td>\n",
       "      <td>0</td>\n",
       "      <td>No</td>\n",
       "      <td>2019</td>\n",
       "      <td>7</td>\n",
       "      <td>31</td>\n",
       "    </tr>\n",
       "  </tbody>\n",
       "</table>\n",
       "</div>"
      ],
      "text/plain": [
       "          Store_id Store_Type Location_Type Region_Code       Date  Holiday  \\\n",
       "ID                                                                            \n",
       "T1210601       186         S2            L5          R2 2019-07-31        0   \n",
       "T1210602        11         S4            L2          R1 2019-07-31        0   \n",
       "T1210603       185         S1            L1          R3 2019-07-31        0   \n",
       "T1210604        69         S1            L1          R4 2019-07-31        0   \n",
       "T1210605       365         S2            L1          R2 2019-07-31        0   \n",
       "\n",
       "         Discount  Year  Month  Day  \n",
       "ID                                   \n",
       "T1210601       No  2019      7   31  \n",
       "T1210602       No  2019      7   31  \n",
       "T1210603      Yes  2019      7   31  \n",
       "T1210604       No  2019      7   31  \n",
       "T1210605       No  2019      7   31  "
      ]
     },
     "execution_count": 29,
     "metadata": {},
     "output_type": "execute_result"
    }
   ],
   "source": [
    "test_df.tail()"
   ]
  },
  {
   "cell_type": "code",
   "execution_count": 32,
   "id": "8e6c25c9",
   "metadata": {
    "scrolled": true
   },
   "outputs": [
    {
     "data": {
      "image/png": "[encoded data removed]",
      "text/plain": [
       "<Figure size 1584x576 with 1 Axes>"
      ]
     },
     "metadata": {
      "needs_background": "light"
     },
     "output_type": "display_data"
    }
   ],
   "source": [
    "Monthly_sales_2018 = train_df[train_df.Year==2018].groupby('Month')['Sales'].mean()\n",
    "Monthly_sales_2019 = train_df[train_df.Year==2019].groupby('Month')['Sales'].mean()\n",
    "\n",
    "\n",
    "plt.figure(figsize=(22,8))\n",
    "plt.plot(Monthly_sales_2018.index, Monthly_sales_2018.values)\n",
    "plt.plot(Monthly_sales_2019.index, Monthly_sales_2019.values)\n",
    "\n",
    "plt.xticks(np.arange(1, 13, step=1), fontsize=16)\n",
    "plt.yticks( fontsize=16)\n",
    "plt.xlabel('Month of Year', fontsize=20, labelpad=20)\n",
    "plt.ylabel('Sales', fontsize=20, labelpad=20)\n",
    "\n",
    "plt.title(\"Monthly Sales - Per Year\", fontsize=24)\n",
    "plt.legend(['2018', '2019'], fontsize=20);"
   ]
  },
  {
   "cell_type": "code",
   "execution_count": null,
   "id": "b23114d1",
   "metadata": {},
   "outputs": [],
   "source": []
  },
  {
   "cell_type": "markdown",
   "id": "a83f2bd9",
   "metadata": {},
   "source": [
    "#### PreProcessing"
   ]
  },
  {
   "cell_type": "code",
   "execution_count": 33,
   "id": "2afb5c56",
   "metadata": {},
   "outputs": [],
   "source": [
    "#Splitting the data\n",
    "X = train_df.drop(columns=['Sales', '#Order', 'Date'])\n",
    "y = train_df['Sales']"
   ]
  },
  {
   "cell_type": "code",
   "execution_count": 35,
   "id": "48a9b986",
   "metadata": {},
   "outputs": [],
   "source": [
    "X_test = test_df.drop(columns=['Date'])"
   ]
  },
  {
   "cell_type": "code",
   "execution_count": 51,
   "id": "19f0e70e",
   "metadata": {},
   "outputs": [],
   "source": [
    "#Splitting the data into train and test set\n",
    "#from sklearn.model_selection import train_test_split\n",
    "#X_train, X_test, y_train, y_test = train_test_split(X, y, test_size=0.3, random_state=42)"
   ]
  },
  {
   "cell_type": "code",
   "execution_count": 36,
   "id": "4f4e38a9",
   "metadata": {},
   "outputs": [],
   "source": [
    "#Required modules for the pipeline\n",
    "from sklearn.preprocessing import StandardScaler\n",
    "from sklearn.preprocessing import OrdinalEncoder\n",
    "from sklearn.compose import ColumnTransformer\n",
    "from sklearn.pipeline import Pipeline"
   ]
  },
  {
   "cell_type": "code",
   "execution_count": 37,
   "id": "651305b8",
   "metadata": {},
   "outputs": [],
   "source": [
    "numeric_features = ['Store_id', 'Holiday', 'Year', 'Month', 'Day']\n",
    "\n",
    "categorical_features = ['Store_Type', 'Location_Type', 'Region_Code', 'Discount']"
   ]
  },
  {
   "cell_type": "code",
   "execution_count": 38,
   "id": "ad01c9f1",
   "metadata": {},
   "outputs": [],
   "source": [
    "#Pipeline for transformation\n",
    "numeric_transformer = Pipeline(steps=[\n",
    "    ('scaler', StandardScaler())\n",
    "])\n",
    "\n",
    "categorical_transformer = Pipeline(steps=[\n",
    "    ('ordinal', OrdinalEncoder())\n",
    "])"
   ]
  },
  {
   "cell_type": "code",
   "execution_count": 39,
   "id": "a266a22b",
   "metadata": {},
   "outputs": [],
   "source": [
    "#Pipeline for column transformation\n",
    "preprocessor = ColumnTransformer(transformers=[\n",
    "    ('numeric', numeric_transformer, numeric_features),\n",
    "    ('categorical', categorical_transformer, categorical_features)\n",
    "])"
   ]
  },
  {
   "cell_type": "code",
   "execution_count": 82,
   "id": "2e1b2d7f",
   "metadata": {},
   "outputs": [
    {
     "data": {
      "text/html": [
       "<div>\n",
       "<style scoped>\n",
       "    .dataframe tbody tr th:only-of-type {\n",
       "        vertical-align: middle;\n",
       "    }\n",
       "\n",
       "    .dataframe tbody tr th {\n",
       "        vertical-align: top;\n",
       "    }\n",
       "\n",
       "    .dataframe thead th {\n",
       "        text-align: right;\n",
       "    }\n",
       "</style>\n",
       "<table border=\"1\" class=\"dataframe\">\n",
       "  <thead>\n",
       "    <tr style=\"text-align: right;\">\n",
       "      <th></th>\n",
       "      <th>Store_id</th>\n",
       "      <th>Store_Type</th>\n",
       "      <th>Location_Type</th>\n",
       "      <th>Region_Code</th>\n",
       "      <th>Holiday</th>\n",
       "      <th>Discount</th>\n",
       "      <th>Year</th>\n",
       "      <th>Month</th>\n",
       "      <th>Day</th>\n",
       "    </tr>\n",
       "    <tr>\n",
       "      <th>ID</th>\n",
       "      <th></th>\n",
       "      <th></th>\n",
       "      <th></th>\n",
       "      <th></th>\n",
       "      <th></th>\n",
       "      <th></th>\n",
       "      <th></th>\n",
       "      <th></th>\n",
       "      <th></th>\n",
       "    </tr>\n",
       "  </thead>\n",
       "  <tbody>\n",
       "    <tr>\n",
       "      <th>T1000001</th>\n",
       "      <td>1</td>\n",
       "      <td>S1</td>\n",
       "      <td>L3</td>\n",
       "      <td>R1</td>\n",
       "      <td>1</td>\n",
       "      <td>Yes</td>\n",
       "      <td>2018</td>\n",
       "      <td>1</td>\n",
       "      <td>1</td>\n",
       "    </tr>\n",
       "    <tr>\n",
       "      <th>T1000002</th>\n",
       "      <td>253</td>\n",
       "      <td>S4</td>\n",
       "      <td>L2</td>\n",
       "      <td>R1</td>\n",
       "      <td>1</td>\n",
       "      <td>Yes</td>\n",
       "      <td>2018</td>\n",
       "      <td>1</td>\n",
       "      <td>1</td>\n",
       "    </tr>\n",
       "    <tr>\n",
       "      <th>T1000003</th>\n",
       "      <td>252</td>\n",
       "      <td>S3</td>\n",
       "      <td>L2</td>\n",
       "      <td>R1</td>\n",
       "      <td>1</td>\n",
       "      <td>Yes</td>\n",
       "      <td>2018</td>\n",
       "      <td>1</td>\n",
       "      <td>1</td>\n",
       "    </tr>\n",
       "    <tr>\n",
       "      <th>T1000004</th>\n",
       "      <td>251</td>\n",
       "      <td>S2</td>\n",
       "      <td>L3</td>\n",
       "      <td>R1</td>\n",
       "      <td>1</td>\n",
       "      <td>Yes</td>\n",
       "      <td>2018</td>\n",
       "      <td>1</td>\n",
       "      <td>1</td>\n",
       "    </tr>\n",
       "    <tr>\n",
       "      <th>T1000005</th>\n",
       "      <td>250</td>\n",
       "      <td>S2</td>\n",
       "      <td>L3</td>\n",
       "      <td>R4</td>\n",
       "      <td>1</td>\n",
       "      <td>Yes</td>\n",
       "      <td>2018</td>\n",
       "      <td>1</td>\n",
       "      <td>1</td>\n",
       "    </tr>\n",
       "  </tbody>\n",
       "</table>\n",
       "</div>"
      ],
      "text/plain": [
       "          Store_id Store_Type Location_Type Region_Code  Holiday Discount  \\\n",
       "ID                                                                          \n",
       "T1000001         1         S1            L3          R1        1      Yes   \n",
       "T1000002       253         S4            L2          R1        1      Yes   \n",
       "T1000003       252         S3            L2          R1        1      Yes   \n",
       "T1000004       251         S2            L3          R1        1      Yes   \n",
       "T1000005       250         S2            L3          R4        1      Yes   \n",
       "\n",
       "          Year  Month  Day  \n",
       "ID                          \n",
       "T1000001  2018      1    1  \n",
       "T1000002  2018      1    1  \n",
       "T1000003  2018      1    1  \n",
       "T1000004  2018      1    1  \n",
       "T1000005  2018      1    1  "
      ]
     },
     "execution_count": 82,
     "metadata": {},
     "output_type": "execute_result"
    }
   ],
   "source": [
    "X.head()"
   ]
  },
  {
   "cell_type": "code",
   "execution_count": 83,
   "id": "20b067f1",
   "metadata": {},
   "outputs": [],
   "source": [
    "#Function to train and get the score of the models\n",
    "def oneForAll(preprocessor, models, name):\n",
    "    n=0\n",
    "    for model in models:\n",
    "        pipeline = Pipeline(steps=[\n",
    "        ('preprocessor', preprocessor),\n",
    "        (name[n], model)\n",
    "        ])\n",
    "        pipeline.fit(X,y)\n",
    "        y_pred_train = pipeline.predict(X)\n",
    "        y_pred_test = pipeline.predict(X_test)\n",
    "        scores_train.append(lmse(y, y_pred_train))\n",
    "        #scores_test.append(lmse(X_test, y_pred_test))\n",
    "        n=n+1"
   ]
  },
  {
   "cell_type": "code",
   "execution_count": 84,
   "id": "f5b76e39",
   "metadata": {},
   "outputs": [],
   "source": [
    "import xgboost as xgb"
   ]
  },
  {
   "cell_type": "code",
   "execution_count": 85,
   "id": "78c3336e",
   "metadata": {},
   "outputs": [],
   "source": [
    "xg = xgb.XGBRegressor()"
   ]
  },
  {
   "cell_type": "code",
   "execution_count": 86,
   "id": "976a9ddb",
   "metadata": {},
   "outputs": [],
   "source": [
    "#final preparation for fitting\n",
    "from sklearn.metrics import mean_squared_log_error as lmse\n",
    "models = [xg]\n",
    "name = ['XGBoost']\n",
    "scores_train=[]\n",
    "scores_test=[]"
   ]
  },
  {
   "cell_type": "code",
   "execution_count": 87,
   "id": "f8cd823c",
   "metadata": {},
   "outputs": [
    {
     "ename": "ValueError",
     "evalue": "Mean Squared Logarithmic Error cannot be used when targets contain negative values.",
     "output_type": "error",
     "traceback": [
      "\u001b[1;31m---------------------------------------------------------------------------\u001b[0m",
      "\u001b[1;31mValueError\u001b[0m                                Traceback (most recent call last)",
      "\u001b[1;32m<ipython-input-87-dd212aa1391e>\u001b[0m in \u001b[0;36m<module>\u001b[1;34m\u001b[0m\n\u001b[0;32m      1\u001b[0m \u001b[1;31m#Calling the function\u001b[0m\u001b[1;33m\u001b[0m\u001b[1;33m\u001b[0m\u001b[1;33m\u001b[0m\u001b[0m\n\u001b[1;32m----> 2\u001b[1;33m \u001b[0moneForAll\u001b[0m\u001b[1;33m(\u001b[0m\u001b[0mpreprocessor\u001b[0m\u001b[1;33m,\u001b[0m \u001b[0mmodels\u001b[0m\u001b[1;33m,\u001b[0m \u001b[0mname\u001b[0m\u001b[1;33m)\u001b[0m\u001b[1;33m\u001b[0m\u001b[1;33m\u001b[0m\u001b[0m\n\u001b[0m",
      "\u001b[1;32m<ipython-input-83-8f8235e650dc>\u001b[0m in \u001b[0;36moneForAll\u001b[1;34m(preprocessor, models, name)\u001b[0m\n\u001b[0;32m     10\u001b[0m         \u001b[0my_pred_train\u001b[0m \u001b[1;33m=\u001b[0m \u001b[0mpipeline\u001b[0m\u001b[1;33m.\u001b[0m\u001b[0mpredict\u001b[0m\u001b[1;33m(\u001b[0m\u001b[0mX\u001b[0m\u001b[1;33m)\u001b[0m\u001b[1;33m\u001b[0m\u001b[1;33m\u001b[0m\u001b[0m\n\u001b[0;32m     11\u001b[0m         \u001b[0my_pred_test\u001b[0m \u001b[1;33m=\u001b[0m \u001b[0mpipeline\u001b[0m\u001b[1;33m.\u001b[0m\u001b[0mpredict\u001b[0m\u001b[1;33m(\u001b[0m\u001b[0mX_test\u001b[0m\u001b[1;33m)\u001b[0m\u001b[1;33m\u001b[0m\u001b[1;33m\u001b[0m\u001b[0m\n\u001b[1;32m---> 12\u001b[1;33m         \u001b[0mscores_train\u001b[0m\u001b[1;33m.\u001b[0m\u001b[0mappend\u001b[0m\u001b[1;33m(\u001b[0m\u001b[0mlmse\u001b[0m\u001b[1;33m(\u001b[0m\u001b[0my\u001b[0m\u001b[1;33m,\u001b[0m \u001b[0my_pred_train\u001b[0m\u001b[1;33m)\u001b[0m\u001b[1;33m)\u001b[0m\u001b[1;33m\u001b[0m\u001b[1;33m\u001b[0m\u001b[0m\n\u001b[0m\u001b[0;32m     13\u001b[0m         \u001b[1;31m#scores_test.append(lmse(X_test, y_pred_test))\u001b[0m\u001b[1;33m\u001b[0m\u001b[1;33m\u001b[0m\u001b[1;33m\u001b[0m\u001b[0m\n\u001b[0;32m     14\u001b[0m         \u001b[0mn\u001b[0m\u001b[1;33m=\u001b[0m\u001b[0mn\u001b[0m\u001b[1;33m+\u001b[0m\u001b[1;36m1\u001b[0m\u001b[1;33m\u001b[0m\u001b[1;33m\u001b[0m\u001b[0m\n",
      "\u001b[1;32m~\\anaconda3\\lib\\site-packages\\sklearn\\utils\\validation.py\u001b[0m in \u001b[0;36minner_f\u001b[1;34m(*args, **kwargs)\u001b[0m\n\u001b[0;32m     61\u001b[0m             \u001b[0mextra_args\u001b[0m \u001b[1;33m=\u001b[0m \u001b[0mlen\u001b[0m\u001b[1;33m(\u001b[0m\u001b[0margs\u001b[0m\u001b[1;33m)\u001b[0m \u001b[1;33m-\u001b[0m \u001b[0mlen\u001b[0m\u001b[1;33m(\u001b[0m\u001b[0mall_args\u001b[0m\u001b[1;33m)\u001b[0m\u001b[1;33m\u001b[0m\u001b[1;33m\u001b[0m\u001b[0m\n\u001b[0;32m     62\u001b[0m             \u001b[1;32mif\u001b[0m \u001b[0mextra_args\u001b[0m \u001b[1;33m<=\u001b[0m \u001b[1;36m0\u001b[0m\u001b[1;33m:\u001b[0m\u001b[1;33m\u001b[0m\u001b[1;33m\u001b[0m\u001b[0m\n\u001b[1;32m---> 63\u001b[1;33m                 \u001b[1;32mreturn\u001b[0m \u001b[0mf\u001b[0m\u001b[1;33m(\u001b[0m\u001b[1;33m*\u001b[0m\u001b[0margs\u001b[0m\u001b[1;33m,\u001b[0m \u001b[1;33m**\u001b[0m\u001b[0mkwargs\u001b[0m\u001b[1;33m)\u001b[0m\u001b[1;33m\u001b[0m\u001b[1;33m\u001b[0m\u001b[0m\n\u001b[0m\u001b[0;32m     64\u001b[0m \u001b[1;33m\u001b[0m\u001b[0m\n\u001b[0;32m     65\u001b[0m             \u001b[1;31m# extra_args > 0\u001b[0m\u001b[1;33m\u001b[0m\u001b[1;33m\u001b[0m\u001b[1;33m\u001b[0m\u001b[0m\n",
      "\u001b[1;32m~\\anaconda3\\lib\\site-packages\\sklearn\\metrics\\_regression.py\u001b[0m in \u001b[0;36mmean_squared_log_error\u001b[1;34m(y_true, y_pred, sample_weight, multioutput)\u001b[0m\n\u001b[0;32m    411\u001b[0m \u001b[1;33m\u001b[0m\u001b[0m\n\u001b[0;32m    412\u001b[0m     \u001b[1;32mif\u001b[0m \u001b[1;33m(\u001b[0m\u001b[0my_true\u001b[0m \u001b[1;33m<\u001b[0m \u001b[1;36m0\u001b[0m\u001b[1;33m)\u001b[0m\u001b[1;33m.\u001b[0m\u001b[0many\u001b[0m\u001b[1;33m(\u001b[0m\u001b[1;33m)\u001b[0m \u001b[1;32mor\u001b[0m \u001b[1;33m(\u001b[0m\u001b[0my_pred\u001b[0m \u001b[1;33m<\u001b[0m \u001b[1;36m0\u001b[0m\u001b[1;33m)\u001b[0m\u001b[1;33m.\u001b[0m\u001b[0many\u001b[0m\u001b[1;33m(\u001b[0m\u001b[1;33m)\u001b[0m\u001b[1;33m:\u001b[0m\u001b[1;33m\u001b[0m\u001b[1;33m\u001b[0m\u001b[0m\n\u001b[1;32m--> 413\u001b[1;33m         raise ValueError(\"Mean Squared Logarithmic Error cannot be used when \"\n\u001b[0m\u001b[0;32m    414\u001b[0m                          \"targets contain negative values.\")\n\u001b[0;32m    415\u001b[0m \u001b[1;33m\u001b[0m\u001b[0m\n",
      "\u001b[1;31mValueError\u001b[0m: Mean Squared Logarithmic Error cannot be used when targets contain negative values."
     ]
    }
   ],
   "source": [
    "#Calling the function\n",
    "oneForAll(preprocessor, models, name)"
   ]
  },
  {
   "cell_type": "code",
   "execution_count": 82,
   "id": "6ea436a6",
   "metadata": {},
   "outputs": [
    {
     "data": {
      "text/html": [
       "<div>\n",
       "<style scoped>\n",
       "    .dataframe tbody tr th:only-of-type {\n",
       "        vertical-align: middle;\n",
       "    }\n",
       "\n",
       "    .dataframe tbody tr th {\n",
       "        vertical-align: top;\n",
       "    }\n",
       "\n",
       "    .dataframe thead th {\n",
       "        text-align: right;\n",
       "    }\n",
       "</style>\n",
       "<table border=\"1\" class=\"dataframe\">\n",
       "  <thead>\n",
       "    <tr style=\"text-align: right;\">\n",
       "      <th></th>\n",
       "      <th>Model</th>\n",
       "      <th>Train Score</th>\n",
       "    </tr>\n",
       "  </thead>\n",
       "  <tbody>\n",
       "    <tr>\n",
       "      <th>0</th>\n",
       "      <td>XGBoost</td>\n",
       "      <td>0.82922</td>\n",
       "    </tr>\n",
       "  </tbody>\n",
       "</table>\n",
       "</div>"
      ],
      "text/plain": [
       "     Model  Train Score\n",
       "0  XGBoost      0.82922"
      ]
     },
     "execution_count": 82,
     "metadata": {},
     "output_type": "execute_result"
    }
   ],
   "source": [
    "#Models and scores  on train and test\n",
    "models = pd.DataFrame({\n",
    "    'Model': name,\n",
    "    'Train Score': scores_train,\n",
    "    #'Test Score': scores_test\n",
    "    })\n",
    "\n",
    "models.sort_values(by='Train Score')"
   ]
  },
  {
   "cell_type": "code",
   "execution_count": 42,
   "id": "3db9a403",
   "metadata": {},
   "outputs": [],
   "source": []
  },
  {
   "cell_type": "code",
   "execution_count": null,
   "id": "8dcc5ff9",
   "metadata": {},
   "outputs": [],
   "source": []
  },
  {
   "cell_type": "code",
   "execution_count": null,
   "id": "e649b02d",
   "metadata": {},
   "outputs": [],
   "source": []
  },
  {
   "cell_type": "code",
   "execution_count": null,
   "id": "61d53a84",
   "metadata": {},
   "outputs": [],
   "source": []
  },
  {
   "cell_type": "code",
   "execution_count": null,
   "id": "512a598c",
   "metadata": {},
   "outputs": [],
   "source": []
  },
  {
   "cell_type": "code",
   "execution_count": null,
   "id": "2966f51d",
   "metadata": {},
   "outputs": [],
   "source": []
  },
  {
   "cell_type": "code",
   "execution_count": null,
   "id": "10d164d0",
   "metadata": {},
   "outputs": [],
   "source": []
  },
  {
   "cell_type": "code",
   "execution_count": null,
   "id": "a356d17d",
   "metadata": {},
   "outputs": [],
   "source": []
  },
  {
   "cell_type": "code",
   "execution_count": null,
   "id": "5602566b",
   "metadata": {},
   "outputs": [],
   "source": []
  },
  {
   "cell_type": "code",
   "execution_count": null,
   "id": "b3686a5f",
   "metadata": {},
   "outputs": [],
   "source": [
    "from statsmodels.graphics.tsaplots import plot_ac"
   ]
  },
  {
   "cell_type": "code",
   "execution_count": 41,
   "id": "38389b9e",
   "metadata": {},
   "outputs": [
    {
     "data": {
      "image/png": "[encoded data removed]",
      "text/plain": [
       "<Figure size 1008x504 with 1 Axes>"
      ]
     },
     "metadata": {
      "needs_background": "light"
     },
     "output_type": "display_data"
    }
   ],
   "source": [
    "plt.scatter(train_df[\"Day\"],train_df[\"Sales\"],s=20)\n",
    "plt.xticks(rotation = 90)\n",
    "plt.gcf().set_size_inches(14,7)"
   ]
  },
  {
   "cell_type": "code",
   "execution_count": 48,
   "id": "d3228e89",
   "metadata": {},
   "outputs": [
    {
     "data": {
      "image/png": "[encoded data removed]",
      "text/plain": [
       "<Figure size 1224x576 with 1 Axes>"
      ]
     },
     "metadata": {
      "needs_background": "light"
     },
     "output_type": "display_data"
    }
   ],
   "source": [
    "fig = plt.figure(figsize=(17,8))\n",
    "ax2 = fig.add_subplot(122)\n",
    "plot_acf(train_df['Sales'], ax=ax2,)\n",
    "plt.title(\"Autocorrelation Plot for Weather Data\", fontsize=15)\n",
    "plt.ylabel(\"Correlation\",fontsize=15)\n",
    "plt.xlabel(\"Lag\",fontsize=15)\n",
    "plt.show()"
   ]
  },
  {
   "cell_type": "code",
   "execution_count": null,
   "id": "b268a760",
   "metadata": {},
   "outputs": [],
   "source": [
    "def category_onehot_multcols(multcolumns):\n",
    "    df_final=final_df\n",
    "    i=0\n",
    "    for fields in multcolumns:\n",
    "        \n",
    "        print(fields)\n",
    "        df1=pd.get_dummies(final_df[fields],drop_first=True)\n",
    "        \n",
    "        final_df.drop([fields],axis=1,inplace=True)\n",
    "        if i==0:\n",
    "            df_final=df1.copy()\n",
    "        else:\n",
    "            \n",
    "            df_final=pd.concat([df_final,df1],axis=1)\n",
    "        i=i+1\n",
    "    df_final=pd.concat([final_df,df_final],axis=1)\n",
    "    return df_final"
   ]
  }
 ],
 "metadata": {
  "kernelspec": {
   "display_name": "Python 3",
   "language": "python",
   "name": "python3"
  },
  "language_info": {
   "codemirror_mode": {
    "name": "ipython",
    "version": 3
   },
   "file_extension": ".py",
   "mimetype": "text/x-python",
   "name": "python",
   "nbconvert_exporter": "python",
   "pygments_lexer": "ipython3",
   "version": "3.8.8"
  }
 },
 "nbformat": 4,
 "nbformat_minor": 5
}
